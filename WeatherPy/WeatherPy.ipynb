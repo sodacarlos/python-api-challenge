{
 "cells": [
  {
   "cell_type": "markdown",
   "metadata": {},
   "source": [
    "# WeatherPy\n",
    "----\n",
    "\n",
    "#### Note\n",
    "* Instructions have been included for each segment. You do not have to follow them exactly, but they are included to help you think through the steps."
   ]
  },
  {
   "cell_type": "code",
   "execution_count": 1,
   "metadata": {
    "scrolled": true
   },
   "outputs": [],
   "source": [
    "# Dependencies and Setup\n",
    "import matplotlib.pyplot as plt\n",
    "import pandas as pd\n",
    "import numpy as np\n",
    "import requests\n",
    "import time\n",
    "import scipy.stats as st\n",
    "from scipy.stats import linregress\n",
    "\n",
    "# Import API key\n",
    "from api_keys import weather_api_key\n",
    "\n",
    "# Incorporated citipy to determine city based on latitude and longitude\n",
    "from citipy import citipy\n",
    "\n",
    "# Output File (CSV)\n",
    "output_data_file = \"output_data/cities.csv\"\n",
    "\n",
    "# Range of latitudes and longitudes\n",
    "lat_range = (-90, 90)\n",
    "lng_range = (-180, 180)"
   ]
  },
  {
   "cell_type": "markdown",
   "metadata": {},
   "source": [
    "## Generate Cities List"
   ]
  },
  {
   "cell_type": "code",
   "execution_count": 2,
   "metadata": {},
   "outputs": [
    {
     "data": {
      "text/plain": [
       "581"
      ]
     },
     "execution_count": 2,
     "metadata": {},
     "output_type": "execute_result"
    }
   ],
   "source": [
    "# List for holding lat_lngs and cities\n",
    "lat_lngs = []\n",
    "cities = []\n",
    "\n",
    "# Create a set of random lat and lng combinations\n",
    "lats = np.random.uniform(lat_range[0], lat_range[1], size=1500)\n",
    "lngs = np.random.uniform(lng_range[0], lng_range[1], size=1500)\n",
    "lat_lngs = zip(lats, lngs)\n",
    "\n",
    "# Identify nearest city for each lat, lng combination\n",
    "for lat_lng in lat_lngs:\n",
    "    city = citipy.nearest_city(lat_lng[0], lat_lng[1]).city_name\n",
    "    \n",
    "    # If the city is unique, then add it to a our cities list\n",
    "    if city not in cities:\n",
    "        cities.append(city)\n",
    "\n",
    "# Print the city count to confirm sufficient count\n",
    "len(cities)"
   ]
  },
  {
   "cell_type": "markdown",
   "metadata": {},
   "source": [
    "### Perform API Calls\n",
    "* Perform a weather check on each city using a series of successive API calls.\n",
    "* Include a print log of each city as it's being processed (with the city number and city name).\n"
   ]
  },
  {
   "cell_type": "code",
   "execution_count": 3,
   "metadata": {},
   "outputs": [
    {
     "name": "stdout",
     "output_type": "stream",
     "text": [
      "Beginning Data Retrieval     \n",
      "-----------------------------\n",
      "Processing Record 1 of Set 1 | rikitea\n",
      "Processing Record 2 of Set 1 | port alfred\n",
      "Processing Record 3 of Set 1 | hobart\n",
      "Processing Record 4 of Set 1 | zhob\n",
      "Processing Record 5 of Set 1 | nikolskoye\n",
      "Processing Record 6 of Set 1 | koshurnikovo\n",
      "Processing Record 7 of Set 1 | hermanus\n",
      "Processing Record 8 of Set 1 | fortuna\n",
      "Processing Record 9 of Set 1 | sindor\n",
      "Processing Record 10 of Set 1 | ranong\n",
      "Processing Record 11 of Set 1 | deputatskiy\n",
      "Processing Record 12 of Set 1 | campbellsville\n",
      "Processing Record 13 of Set 1 | poum\n",
      "Processing Record 14 of Set 1 | ushuaia\n",
      "Processing Record 15 of Set 1 | katsuura\n",
      "Processing Record 16 of Set 1 | atuona\n",
      "Processing Record 17 of Set 1 | olinda\n",
      "Processing Record 18 of Set 1 | pasni\n",
      "Processing Record 19 of Set 1 | norman wells\n",
      "Processing Record 20 of Set 1 | parry sound\n",
      "Processing Record 21 of Set 1 | mataura\n",
      "Processing Record 22 of Set 1 | cabo san lucas\n",
      "Processing Record 23 of Set 1 | lebu\n",
      "Processing Record 24 of Set 1 | cape town\n",
      "Processing Record 25 of Set 1 | tazovskiy\n",
      "Processing Record 26 of Set 1 | lompoc\n",
      "Processing Record 27 of Set 1 | xai-xai\n",
      "Processing Record 28 of Set 1 | santa cruz\n",
      "Processing Record 29 of Set 1 | salalah\n",
      "Processing Record 30 of Set 1 | puerto ayora\n",
      "Processing Record 31 of Set 1 | coihaique\n",
      "Processing Record 32 of Set 1 | tsihombe\n",
      "City not found. Skipping...\n",
      "Processing Record 33 of Set 1 | mamallapuram\n",
      "Processing Record 34 of Set 1 | umm lajj\n",
      "Processing Record 35 of Set 1 | punta arenas\n",
      "Processing Record 36 of Set 1 | busselton\n",
      "Processing Record 37 of Set 1 | qaanaaq\n",
      "Processing Record 38 of Set 1 | east london\n",
      "Processing Record 39 of Set 1 | tiksi\n",
      "Processing Record 40 of Set 1 | carnarvon\n",
      "Processing Record 41 of Set 1 | manjacaze\n",
      "Processing Record 42 of Set 1 | cidreira\n",
      "Processing Record 43 of Set 1 | thompson\n",
      "Processing Record 44 of Set 1 | belushya guba\n",
      "City not found. Skipping...\n",
      "Processing Record 45 of Set 1 | chokurdakh\n",
      "Processing Record 46 of Set 1 | kapaa\n",
      "Processing Record 47 of Set 1 | clyde river\n",
      "Processing Record 48 of Set 1 | tuatapere\n",
      "Processing Record 49 of Set 1 | victoria\n",
      "Processing Record 50 of Set 1 | los llanos de aridane\n",
      "Processing Record 0 of Set 2 | latung\n",
      "Processing Record 1 of Set 2 | arraial do cabo\n",
      "Processing Record 2 of Set 2 | acapulco\n",
      "Processing Record 3 of Set 2 | lakes entrance\n",
      "Processing Record 4 of Set 2 | shimoda\n",
      "Processing Record 5 of Set 2 | luderitz\n",
      "Processing Record 6 of Set 2 | kavieng\n",
      "Processing Record 7 of Set 2 | bambous virieux\n",
      "Processing Record 8 of Set 2 | illoqqortoormiut\n",
      "City not found. Skipping...\n",
      "Processing Record 9 of Set 2 | vestmannaeyjar\n",
      "Processing Record 10 of Set 2 | taolanaro\n",
      "City not found. Skipping...\n",
      "Processing Record 11 of Set 2 | khatanga\n",
      "Processing Record 12 of Set 2 | bredasdorp\n",
      "Processing Record 13 of Set 2 | longyearbyen\n",
      "Processing Record 14 of Set 2 | ambilobe\n",
      "Processing Record 15 of Set 2 | tandalti\n",
      "Processing Record 16 of Set 2 | karasjok\n",
      "Processing Record 17 of Set 2 | cascais\n",
      "Processing Record 18 of Set 2 | avarua\n",
      "Processing Record 19 of Set 2 | moerai\n",
      "Processing Record 20 of Set 2 | hay river\n",
      "Processing Record 21 of Set 2 | mizdah\n",
      "Processing Record 22 of Set 2 | bababe\n",
      "City not found. Skipping...\n",
      "Processing Record 23 of Set 2 | severo-kurilsk\n",
      "Processing Record 24 of Set 2 | saint anthony\n",
      "Processing Record 25 of Set 2 | likoporia\n",
      "City not found. Skipping...\n",
      "Processing Record 26 of Set 2 | port elizabeth\n",
      "Processing Record 27 of Set 2 | vaini\n",
      "Processing Record 28 of Set 2 | bluff\n",
      "Processing Record 29 of Set 2 | saint-philippe\n",
      "Processing Record 30 of Set 2 | cherskiy\n",
      "Processing Record 31 of Set 2 | pangnirtung\n",
      "Processing Record 32 of Set 2 | pampa\n",
      "Processing Record 33 of Set 2 | awjilah\n",
      "Processing Record 34 of Set 2 | kodiak\n",
      "Processing Record 35 of Set 2 | lasa\n",
      "Processing Record 36 of Set 2 | barreirinha\n",
      "Processing Record 37 of Set 2 | marrakesh\n",
      "Processing Record 38 of Set 2 | tabou\n",
      "Processing Record 39 of Set 2 | albany\n",
      "Processing Record 40 of Set 2 | moorhead\n",
      "Processing Record 41 of Set 2 | ribeira grande\n",
      "Processing Record 42 of Set 2 | liverpool\n",
      "Processing Record 43 of Set 2 | kruisfontein\n",
      "Processing Record 44 of Set 2 | riga\n",
      "Processing Record 45 of Set 2 | saskylakh\n",
      "Processing Record 46 of Set 2 | rantepao\n",
      "Processing Record 47 of Set 2 | moron\n",
      "Processing Record 48 of Set 2 | narasannapeta\n",
      "Processing Record 49 of Set 2 | hilo\n",
      "Processing Record 0 of Set 3 | ninghai\n",
      "Processing Record 1 of Set 3 | nchelenge\n",
      "Processing Record 2 of Set 3 | tuktoyaktuk\n",
      "Processing Record 3 of Set 3 | stulovo\n",
      "Processing Record 4 of Set 3 | the valley\n",
      "Processing Record 5 of Set 3 | ancud\n",
      "Processing Record 6 of Set 3 | esperance\n",
      "Processing Record 7 of Set 3 | bowen\n",
      "Processing Record 8 of Set 3 | pevek\n",
      "Processing Record 9 of Set 3 | aykhal\n",
      "Processing Record 10 of Set 3 | pavilosta\n",
      "Processing Record 11 of Set 3 | byron bay\n",
      "Processing Record 12 of Set 3 | jamestown\n",
      "Processing Record 13 of Set 3 | sitangkai\n",
      "Processing Record 14 of Set 3 | bethel\n",
      "Processing Record 15 of Set 3 | zhigansk\n",
      "Processing Record 16 of Set 3 | mbandaka\n",
      "Processing Record 17 of Set 3 | kathu\n",
      "Processing Record 18 of Set 3 | launceston\n",
      "Processing Record 19 of Set 3 | hasaki\n",
      "Processing Record 20 of Set 3 | grand river south east\n",
      "City not found. Skipping...\n",
      "Processing Record 21 of Set 3 | cabra\n",
      "Processing Record 22 of Set 3 | chengde\n",
      "Processing Record 23 of Set 3 | grand gaube\n",
      "Processing Record 24 of Set 3 | krivosheino\n",
      "Processing Record 25 of Set 3 | beringovskiy\n",
      "Processing Record 26 of Set 3 | tumannyy\n",
      "City not found. Skipping...\n",
      "Processing Record 27 of Set 3 | saldanha\n",
      "Processing Record 28 of Set 3 | barrow\n",
      "Processing Record 29 of Set 3 | laguna\n",
      "Processing Record 30 of Set 3 | hervey bay\n",
      "Processing Record 31 of Set 3 | asau\n",
      "Processing Record 32 of Set 3 | margate\n",
      "Processing Record 33 of Set 3 | bud\n",
      "Processing Record 34 of Set 3 | bubaque\n",
      "Processing Record 35 of Set 3 | benjamin hill\n",
      "Processing Record 36 of Set 3 | codrington\n",
      "Processing Record 37 of Set 3 | port lincoln\n",
      "Processing Record 38 of Set 3 | praia da vitoria\n",
      "Processing Record 39 of Set 3 | cedar city\n",
      "Processing Record 40 of Set 3 | new norfolk\n",
      "Processing Record 41 of Set 3 | vardo\n",
      "Processing Record 42 of Set 3 | okulovka\n",
      "Processing Record 43 of Set 3 | kaitangata\n",
      "Processing Record 44 of Set 3 | grindavik\n",
      "Processing Record 45 of Set 3 | upata\n",
      "Processing Record 46 of Set 3 | yeppoon\n",
      "Processing Record 47 of Set 3 | upernavik\n",
      "Processing Record 48 of Set 3 | alyangula\n",
      "Processing Record 49 of Set 3 | livingston\n",
      "Processing Record 0 of Set 4 | dikson\n",
      "Processing Record 1 of Set 4 | dzaoudzi\n",
      "Processing Record 2 of Set 4 | phonhong\n",
      "Processing Record 3 of Set 4 | vila franca do campo\n",
      "Processing Record 4 of Set 4 | provideniya\n",
      "Processing Record 5 of Set 4 | conceicao do araguaia\n",
      "Processing Record 6 of Set 4 | olafsvik\n",
      "Processing Record 7 of Set 4 | strezhevoy\n",
      "Processing Record 8 of Set 4 | port-gentil\n",
      "Processing Record 9 of Set 4 | alice springs\n",
      "Processing Record 10 of Set 4 | hamilton\n",
      "Processing Record 11 of Set 4 | ahipara\n",
      "Processing Record 12 of Set 4 | shirokiy\n",
      "Processing Record 13 of Set 4 | soyo\n",
      "Processing Record 14 of Set 4 | svetlyy\n",
      "Processing Record 15 of Set 4 | magadan\n",
      "Processing Record 16 of Set 4 | hambantota\n",
      "Processing Record 17 of Set 4 | chapleau\n",
      "Processing Record 18 of Set 4 | yellowknife\n",
      "Processing Record 19 of Set 4 | talcahuano\n",
      "Processing Record 20 of Set 4 | honiara\n",
      "Processing Record 21 of Set 4 | ponta do sol\n",
      "Processing Record 22 of Set 4 | georgetown\n",
      "Processing Record 23 of Set 4 | juneau\n",
      "Processing Record 24 of Set 4 | san rafael\n",
      "Processing Record 25 of Set 4 | ulladulla\n",
      "Processing Record 26 of Set 4 | te anau\n",
      "Processing Record 27 of Set 4 | iqaluit\n",
      "Processing Record 28 of Set 4 | najran\n",
      "Processing Record 29 of Set 4 | noumea\n",
      "Processing Record 30 of Set 4 | matay\n",
      "Processing Record 31 of Set 4 | barentsburg\n",
      "City not found. Skipping...\n",
      "Processing Record 32 of Set 4 | mukhen\n",
      "Processing Record 33 of Set 4 | taoudenni\n",
      "Processing Record 34 of Set 4 | namatanai\n",
      "Processing Record 35 of Set 4 | kavaratti\n",
      "Processing Record 36 of Set 4 | aklavik\n",
      "Processing Record 37 of Set 4 | pilao arcado\n",
      "City not found. Skipping...\n",
      "Processing Record 38 of Set 4 | nishihara\n"
     ]
    },
    {
     "name": "stdout",
     "output_type": "stream",
     "text": [
      "Processing Record 39 of Set 4 | attawapiskat\n",
      "City not found. Skipping...\n",
      "Processing Record 40 of Set 4 | padre bernardo\n",
      "Processing Record 41 of Set 4 | kununurra\n",
      "Processing Record 42 of Set 4 | hvammstangi\n",
      "City not found. Skipping...\n",
      "Processing Record 43 of Set 4 | muncar\n",
      "Processing Record 44 of Set 4 | butaritari\n",
      "Processing Record 45 of Set 4 | kuching\n",
      "Processing Record 46 of Set 4 | chuy\n",
      "Processing Record 47 of Set 4 | myaundzha\n",
      "Processing Record 48 of Set 4 | dudinka\n",
      "Processing Record 49 of Set 4 | hithadhoo\n",
      "Processing Record 0 of Set 5 | urumqi\n",
      "Processing Record 1 of Set 5 | trairi\n",
      "Processing Record 2 of Set 5 | muros\n",
      "Processing Record 3 of Set 5 | coquimbo\n",
      "Processing Record 4 of Set 5 | gotsu\n",
      "Processing Record 5 of Set 5 | beloha\n",
      "Processing Record 6 of Set 5 | oro valley\n",
      "Processing Record 7 of Set 5 | kawalu\n",
      "Processing Record 8 of Set 5 | yar-sale\n",
      "Processing Record 9 of Set 5 | bengkulu\n",
      "Processing Record 10 of Set 5 | marystown\n",
      "Processing Record 11 of Set 5 | mapiri\n",
      "Processing Record 12 of Set 5 | kabanjahe\n",
      "Processing Record 13 of Set 5 | cockburn town\n",
      "Processing Record 14 of Set 5 | vreed en hoop\n",
      "City not found. Skipping...\n",
      "Processing Record 15 of Set 5 | porto franco\n",
      "Processing Record 16 of Set 5 | lardos\n",
      "Processing Record 17 of Set 5 | honningsvag\n",
      "Processing Record 18 of Set 5 | samarai\n",
      "Processing Record 19 of Set 5 | mys shmidta\n",
      "City not found. Skipping...\n",
      "Processing Record 20 of Set 5 | jalu\n",
      "Processing Record 21 of Set 5 | serov\n",
      "Processing Record 22 of Set 5 | rio claro\n",
      "Processing Record 23 of Set 5 | mombetsu\n",
      "Processing Record 24 of Set 5 | mackay\n",
      "Processing Record 25 of Set 5 | nome\n",
      "Processing Record 26 of Set 5 | barra patuca\n",
      "Processing Record 27 of Set 5 | lumberton\n",
      "Processing Record 28 of Set 5 | bose\n",
      "Processing Record 29 of Set 5 | el alto\n",
      "Processing Record 30 of Set 5 | cap malheureux\n",
      "Processing Record 31 of Set 5 | kosh-agach\n",
      "Processing Record 32 of Set 5 | marzuq\n",
      "Processing Record 33 of Set 5 | nizhneyansk\n",
      "City not found. Skipping...\n",
      "Processing Record 34 of Set 5 | sabha\n",
      "Processing Record 35 of Set 5 | fukue\n",
      "Processing Record 36 of Set 5 | saleaula\n",
      "City not found. Skipping...\n",
      "Processing Record 37 of Set 5 | balkhash\n",
      "Processing Record 38 of Set 5 | vangaindrano\n",
      "Processing Record 39 of Set 5 | ulety\n",
      "Processing Record 40 of Set 5 | umm durman\n",
      "City not found. Skipping...\n",
      "Processing Record 41 of Set 5 | myanaung\n",
      "Processing Record 42 of Set 5 | nanortalik\n",
      "Processing Record 43 of Set 5 | price\n",
      "Processing Record 44 of Set 5 | san quintin\n",
      "Processing Record 45 of Set 5 | kamenka\n",
      "Processing Record 46 of Set 5 | mahebourg\n",
      "Processing Record 47 of Set 5 | barguzin\n",
      "Processing Record 48 of Set 5 | amderma\n",
      "City not found. Skipping...\n",
      "Processing Record 49 of Set 5 | isangel\n",
      "Processing Record 0 of Set 6 | mwingi\n",
      "Processing Record 1 of Set 6 | necochea\n",
      "Processing Record 2 of Set 6 | mendota\n",
      "Processing Record 3 of Set 6 | iranshahr\n",
      "Processing Record 4 of Set 6 | gorgan\n",
      "Processing Record 5 of Set 6 | lomovka\n",
      "Processing Record 6 of Set 6 | hakkari\n",
      "Processing Record 7 of Set 6 | coos bay\n",
      "Processing Record 8 of Set 6 | yelizovo\n",
      "Processing Record 9 of Set 6 | gillette\n",
      "Processing Record 10 of Set 6 | geraldton\n",
      "Processing Record 11 of Set 6 | simbahan\n",
      "Processing Record 12 of Set 6 | harindanga\n",
      "Processing Record 13 of Set 6 | bintulu\n",
      "Processing Record 14 of Set 6 | nguiu\n",
      "City not found. Skipping...\n",
      "Processing Record 15 of Set 6 | puerto leguizamo\n",
      "Processing Record 16 of Set 6 | lebanon\n",
      "Processing Record 17 of Set 6 | kloulklubed\n",
      "Processing Record 18 of Set 6 | gizo\n",
      "Processing Record 19 of Set 6 | palabuhanratu\n",
      "City not found. Skipping...\n",
      "Processing Record 20 of Set 6 | airai\n",
      "Processing Record 21 of Set 6 | nanton\n",
      "Processing Record 22 of Set 6 | valparaiso\n",
      "Processing Record 23 of Set 6 | karratha\n",
      "Processing Record 24 of Set 6 | jacareacanga\n",
      "Processing Record 25 of Set 6 | fevralsk\n",
      "City not found. Skipping...\n",
      "Processing Record 26 of Set 6 | sur\n",
      "Processing Record 27 of Set 6 | wilmington\n",
      "Processing Record 28 of Set 6 | maragogi\n",
      "Processing Record 29 of Set 6 | valera\n",
      "Processing Record 30 of Set 6 | majene\n",
      "Processing Record 31 of Set 6 | palmer\n",
      "Processing Record 32 of Set 6 | inirida\n",
      "Processing Record 33 of Set 6 | emba\n",
      "Processing Record 34 of Set 6 | lata\n",
      "Processing Record 35 of Set 6 | ndungu\n",
      "Processing Record 36 of Set 6 | tanout\n",
      "Processing Record 37 of Set 6 | bandarbeyla\n",
      "Processing Record 38 of Set 6 | tasiilaq\n",
      "Processing Record 39 of Set 6 | winder\n",
      "Processing Record 40 of Set 6 | boa vista\n",
      "Processing Record 41 of Set 6 | sredec\n",
      "City not found. Skipping...\n",
      "Processing Record 42 of Set 6 | sungaipenuh\n",
      "Processing Record 43 of Set 6 | marcona\n",
      "City not found. Skipping...\n",
      "Processing Record 44 of Set 6 | marabba\n",
      "Processing Record 45 of Set 6 | nizhniy lomov\n",
      "Processing Record 46 of Set 6 | torbay\n",
      "Processing Record 47 of Set 6 | mar del plata\n",
      "Processing Record 48 of Set 6 | castro\n",
      "Processing Record 49 of Set 6 | yulara\n",
      "Processing Record 0 of Set 7 | boshnyakovo\n",
      "Processing Record 1 of Set 7 | marsh harbour\n",
      "Processing Record 2 of Set 7 | altay\n",
      "Processing Record 3 of Set 7 | sao joao da barra\n",
      "Processing Record 4 of Set 7 | wuzhou\n",
      "Processing Record 5 of Set 7 | muromtsevo\n",
      "Processing Record 6 of Set 7 | tuy hoa\n",
      "Processing Record 7 of Set 7 | qandala\n",
      "Processing Record 8 of Set 7 | agirish\n",
      "Processing Record 9 of Set 7 | bulgan\n",
      "Processing Record 10 of Set 7 | husavik\n",
      "Processing Record 11 of Set 7 | kindia\n",
      "Processing Record 12 of Set 7 | constitucion\n",
      "Processing Record 13 of Set 7 | mbini\n",
      "Processing Record 14 of Set 7 | souillac\n",
      "Processing Record 15 of Set 7 | kropotkin\n",
      "Processing Record 16 of Set 7 | barra do garcas\n",
      "Processing Record 17 of Set 7 | gorno-chuyskiy\n",
      "City not found. Skipping...\n",
      "Processing Record 18 of Set 7 | ambositra\n",
      "Processing Record 19 of Set 7 | arlit\n",
      "Processing Record 20 of Set 7 | charters towers\n",
      "Processing Record 21 of Set 7 | matagami\n",
      "Processing Record 22 of Set 7 | scottsburgh\n",
      "City not found. Skipping...\n",
      "Processing Record 23 of Set 7 | pochutla\n",
      "Processing Record 24 of Set 7 | meulaboh\n",
      "Processing Record 25 of Set 7 | san policarpo\n",
      "Processing Record 26 of Set 7 | klaksvik\n",
      "Processing Record 27 of Set 7 | inhambane\n",
      "Processing Record 28 of Set 7 | agadez\n",
      "Processing Record 29 of Set 7 | ahumada\n",
      "City not found. Skipping...\n",
      "Processing Record 30 of Set 7 | batemans bay\n",
      "Processing Record 31 of Set 7 | paamiut\n",
      "Processing Record 32 of Set 7 | vaitupu\n",
      "City not found. Skipping...\n",
      "Processing Record 33 of Set 7 | port hedland\n",
      "Processing Record 34 of Set 7 | waingapu\n",
      "Processing Record 35 of Set 7 | jinzhou\n",
      "Processing Record 36 of Set 7 | avera\n",
      "Processing Record 37 of Set 7 | tsienyane\n",
      "City not found. Skipping...\n",
      "Processing Record 38 of Set 7 | mattoon\n",
      "Processing Record 39 of Set 7 | zhaotong\n",
      "Processing Record 40 of Set 7 | nikolayevka\n",
      "Processing Record 41 of Set 7 | cap-aux-meules\n",
      "Processing Record 42 of Set 7 | seidu\n",
      "Processing Record 43 of Set 7 | flinders\n",
      "Processing Record 44 of Set 7 | assela\n",
      "City not found. Skipping...\n",
      "Processing Record 45 of Set 7 | digby\n",
      "Processing Record 46 of Set 7 | stony plain\n",
      "Processing Record 47 of Set 7 | fazilka\n",
      "Processing Record 48 of Set 7 | basco\n",
      "Processing Record 49 of Set 7 | valjala\n",
      "City not found. Skipping...\n",
      "Processing Record 0 of Set 8 | sentyabrskiy\n",
      "City not found. Skipping...\n",
      "Processing Record 1 of Set 8 | sayyan\n",
      "Processing Record 2 of Set 8 | half moon bay\n",
      "Processing Record 3 of Set 8 | omboue\n",
      "Processing Record 4 of Set 8 | qeshm\n",
      "Processing Record 5 of Set 8 | leshukonskoye\n",
      "Processing Record 6 of Set 8 | hobyo\n",
      "Processing Record 7 of Set 8 | college\n",
      "Processing Record 8 of Set 8 | oranjemund\n",
      "Processing Record 9 of Set 8 | ilulissat\n",
      "Processing Record 10 of Set 8 | lichuan\n",
      "Processing Record 11 of Set 8 | kharan\n",
      "Processing Record 12 of Set 8 | bilma\n",
      "Processing Record 13 of Set 8 | auki\n",
      "Processing Record 14 of Set 8 | chumikan\n",
      "Processing Record 15 of Set 8 | maniitsoq\n",
      "Processing Record 16 of Set 8 | haines junction\n",
      "Processing Record 17 of Set 8 | vallenar\n",
      "Processing Record 18 of Set 8 | yinchuan\n",
      "Processing Record 19 of Set 8 | monrovia\n",
      "Processing Record 20 of Set 8 | san luis\n",
      "Processing Record 21 of Set 8 | wahiawa\n",
      "Processing Record 22 of Set 8 | port macquarie\n",
      "Processing Record 23 of Set 8 | gravdal\n",
      "Processing Record 24 of Set 8 | lerwick\n"
     ]
    },
    {
     "name": "stdout",
     "output_type": "stream",
     "text": [
      "Processing Record 25 of Set 8 | puerto del rosario\n",
      "Processing Record 26 of Set 8 | kamenskoye\n",
      "City not found. Skipping...\n",
      "Processing Record 27 of Set 8 | nzerekore\n",
      "Processing Record 28 of Set 8 | ostroleka\n",
      "Processing Record 29 of Set 8 | puerto escondido\n",
      "Processing Record 30 of Set 8 | muroto\n",
      "Processing Record 31 of Set 8 | xining\n",
      "Processing Record 32 of Set 8 | duldurga\n",
      "Processing Record 33 of Set 8 | pringsewu\n",
      "Processing Record 34 of Set 8 | hualmay\n",
      "Processing Record 35 of Set 8 | itarema\n",
      "Processing Record 36 of Set 8 | sola\n",
      "Processing Record 37 of Set 8 | sibolga\n",
      "Processing Record 38 of Set 8 | sinnamary\n",
      "Processing Record 39 of Set 8 | lorengau\n",
      "Processing Record 40 of Set 8 | alofi\n",
      "Processing Record 41 of Set 8 | hoi an\n",
      "Processing Record 42 of Set 8 | salt\n",
      "Processing Record 43 of Set 8 | clinton\n",
      "Processing Record 44 of Set 8 | yirol\n",
      "City not found. Skipping...\n",
      "Processing Record 45 of Set 8 | padang\n",
      "Processing Record 46 of Set 8 | tyrma\n",
      "Processing Record 47 of Set 8 | sinazongwe\n",
      "Processing Record 48 of Set 8 | coahuayana\n",
      "Processing Record 49 of Set 8 | poli\n",
      "Processing Record 0 of Set 9 | nyaunglebin\n",
      "Processing Record 1 of Set 9 | pisco\n",
      "Processing Record 2 of Set 9 | tinaquillo\n",
      "Processing Record 3 of Set 9 | miranda\n",
      "Processing Record 4 of Set 9 | gerash\n",
      "Processing Record 5 of Set 9 | berdigestyakh\n",
      "Processing Record 6 of Set 9 | mandalgovi\n",
      "Processing Record 7 of Set 9 | zalari\n",
      "Processing Record 8 of Set 9 | abnub\n",
      "Processing Record 9 of Set 9 | tagusao\n",
      "Processing Record 10 of Set 9 | hearst\n",
      "Processing Record 11 of Set 9 | palana\n",
      "Processing Record 12 of Set 9 | chifeng\n",
      "Processing Record 13 of Set 9 | ewa beach\n",
      "Processing Record 14 of Set 9 | saint-augustin\n",
      "Processing Record 15 of Set 9 | manavalakurichi\n",
      "Processing Record 16 of Set 9 | knysna\n",
      "Processing Record 17 of Set 9 | dharangaon\n",
      "Processing Record 18 of Set 9 | marawi\n",
      "Processing Record 19 of Set 9 | fairbanks\n",
      "Processing Record 20 of Set 9 | cayenne\n",
      "Processing Record 21 of Set 9 | boras\n",
      "Processing Record 22 of Set 9 | chlorakas\n",
      "Processing Record 23 of Set 9 | chakwal\n",
      "Processing Record 24 of Set 9 | selma\n",
      "Processing Record 25 of Set 9 | evensk\n",
      "Processing Record 26 of Set 9 | solnechnyy\n",
      "Processing Record 27 of Set 9 | yantzaza\n",
      "Processing Record 28 of Set 9 | salinas\n",
      "Processing Record 29 of Set 9 | mehamn\n",
      "Processing Record 30 of Set 9 | sobolevo\n",
      "Processing Record 31 of Set 9 | srandakan\n",
      "Processing Record 32 of Set 9 | mount isa\n",
      "Processing Record 33 of Set 9 | alta floresta\n",
      "Processing Record 34 of Set 9 | westport\n",
      "Processing Record 35 of Set 9 | turbat\n",
      "Processing Record 36 of Set 9 | san ramon\n",
      "Processing Record 37 of Set 9 | puerto suarez\n",
      "Processing Record 38 of Set 9 | ola\n",
      "Processing Record 39 of Set 9 | porto walter\n",
      "Processing Record 40 of Set 9 | pecos\n",
      "Processing Record 41 of Set 9 | malinyi\n",
      "Processing Record 42 of Set 9 | shelburne\n",
      "Processing Record 43 of Set 9 | touros\n",
      "Processing Record 44 of Set 9 | bur gabo\n",
      "City not found. Skipping...\n",
      "Processing Record 45 of Set 9 | sucua\n",
      "Processing Record 46 of Set 9 | satuk\n",
      "Processing Record 47 of Set 9 | lagoa\n",
      "Processing Record 48 of Set 9 | skelleftea\n",
      "Processing Record 49 of Set 9 | boende\n",
      "Processing Record 0 of Set 10 | faya\n",
      "Processing Record 1 of Set 10 | nonantola\n",
      "Processing Record 2 of Set 10 | dingle\n",
      "Processing Record 3 of Set 10 | moose factory\n",
      "Processing Record 4 of Set 10 | dombarovskiy\n",
      "Processing Record 5 of Set 10 | sidi ali\n",
      "Processing Record 6 of Set 10 | lahij\n",
      "Processing Record 7 of Set 10 | suluq\n",
      "Processing Record 8 of Set 10 | sorong\n",
      "Processing Record 9 of Set 10 | aksu\n",
      "Processing Record 10 of Set 10 | texarkana\n",
      "Processing Record 11 of Set 10 | altamira\n",
      "Processing Record 12 of Set 10 | huaraz\n",
      "Processing Record 13 of Set 10 | brebes\n",
      "Processing Record 14 of Set 10 | rocha\n",
      "Processing Record 15 of Set 10 | veraval\n",
      "Processing Record 16 of Set 10 | sitka\n",
      "Processing Record 17 of Set 10 | kipini\n",
      "Processing Record 18 of Set 10 | vila\n",
      "Processing Record 19 of Set 10 | faanui\n",
      "Processing Record 20 of Set 10 | tura\n",
      "Processing Record 21 of Set 10 | brokopondo\n",
      "Processing Record 22 of Set 10 | bor\n",
      "Processing Record 23 of Set 10 | sataua\n",
      "City not found. Skipping...\n",
      "Processing Record 24 of Set 10 | caravelas\n",
      "Processing Record 25 of Set 10 | kargil\n",
      "Processing Record 26 of Set 10 | westerland\n",
      "Processing Record 27 of Set 10 | killybegs\n",
      "Processing Record 28 of Set 10 | atambua\n",
      "Processing Record 29 of Set 10 | nuuk\n",
      "Processing Record 30 of Set 10 | zabaykalsk\n",
      "Processing Record 31 of Set 10 | bathsheba\n",
      "Processing Record 32 of Set 10 | guerrero negro\n",
      "Processing Record 33 of Set 10 | behshahr\n",
      "Processing Record 34 of Set 10 | winslow\n",
      "Processing Record 35 of Set 10 | visby\n",
      "Processing Record 36 of Set 10 | mashhad\n",
      "Processing Record 37 of Set 10 | puerto madryn\n",
      "Processing Record 38 of Set 10 | lavrentiya\n",
      "Processing Record 39 of Set 10 | mahibadhoo\n",
      "Processing Record 40 of Set 10 | dongsheng\n",
      "Processing Record 41 of Set 10 | dharchula\n",
      "Processing Record 42 of Set 10 | huarmey\n",
      "Processing Record 43 of Set 10 | dourbali\n",
      "Processing Record 44 of Set 10 | russell\n",
      "Processing Record 45 of Set 10 | areka\n",
      "Processing Record 46 of Set 10 | mizan teferi\n",
      "Processing Record 47 of Set 10 | iquique\n",
      "Processing Record 48 of Set 10 | krasnogorodsk\n",
      "Processing Record 49 of Set 10 | guangyuan\n",
      "Processing Record 0 of Set 11 | damaturu\n",
      "Processing Record 1 of Set 11 | koindu\n",
      "Processing Record 2 of Set 11 | saint-francois\n",
      "Processing Record 3 of Set 11 | hovd\n",
      "Processing Record 4 of Set 11 | sovetskiy\n",
      "Processing Record 5 of Set 11 | goderich\n",
      "Processing Record 6 of Set 11 | bargal\n",
      "City not found. Skipping...\n",
      "Processing Record 7 of Set 11 | krasnoselkup\n",
      "Processing Record 8 of Set 11 | uttaradit\n",
      "Processing Record 9 of Set 11 | vostok\n",
      "Processing Record 10 of Set 11 | wasilla\n",
      "Processing Record 11 of Set 11 | port blair\n",
      "Processing Record 12 of Set 11 | altenholz\n",
      "Processing Record 13 of Set 11 | yialos\n",
      "City not found. Skipping...\n",
      "Processing Record 14 of Set 11 | ladyzhyn\n",
      "Processing Record 15 of Set 11 | ostrovnoy\n",
      "Processing Record 16 of Set 11 | ketchikan\n",
      "Processing Record 17 of Set 11 | comodoro rivadavia\n",
      "Processing Record 18 of Set 11 | aleppo\n",
      "Processing Record 19 of Set 11 | inderborskiy\n",
      "City not found. Skipping...\n",
      "Processing Record 20 of Set 11 | khandyga\n",
      "Processing Record 21 of Set 11 | sisimiut\n",
      "Processing Record 22 of Set 11 | jarvakandi\n",
      "Processing Record 23 of Set 11 | antofagasta\n",
      "Processing Record 24 of Set 11 | south yuba city\n",
      "Processing Record 25 of Set 11 | bara\n",
      "Processing Record 26 of Set 11 | meadow lake\n",
      "Processing Record 27 of Set 11 | hillsboro\n",
      "Processing Record 28 of Set 11 | warqla\n",
      "City not found. Skipping...\n",
      "Processing Record 29 of Set 11 | vila velha\n",
      "Processing Record 30 of Set 11 | floro\n",
      "Processing Record 31 of Set 11 | cabanas\n",
      "Processing Record 32 of Set 11 | maunabo\n",
      "Processing Record 33 of Set 11 | nakamura\n",
      "Processing Record 34 of Set 11 | oussouye\n",
      "Processing Record 35 of Set 11 | erenhot\n",
      "Processing Record 36 of Set 11 | ekhabi\n",
      "Processing Record 37 of Set 11 | mount gambier\n",
      "Processing Record 38 of Set 11 | damietta\n",
      "Processing Record 39 of Set 11 | sukumo\n",
      "Processing Record 40 of Set 11 | ciudad bolivar\n",
      "Processing Record 41 of Set 11 | qinhuangdao\n",
      "Processing Record 42 of Set 11 | narsaq\n",
      "Processing Record 43 of Set 11 | maltahohe\n",
      "Processing Record 44 of Set 11 | kiama\n",
      "Processing Record 45 of Set 11 | huzhou\n",
      "Processing Record 46 of Set 11 | bhadra\n",
      "Processing Record 47 of Set 11 | san patricio\n",
      "Processing Record 48 of Set 11 | giyon\n",
      "Processing Record 49 of Set 11 | kurumkan\n",
      "Processing Record 0 of Set 12 | saint george\n",
      "Processing Record 1 of Set 12 | esso\n",
      "Processing Record 2 of Set 12 | riyadh\n",
      "Processing Record 3 of Set 12 | rabaul\n",
      "Processing Record 4 of Set 12 | walvis bay\n",
      "Processing Record 5 of Set 12 | labuhan\n",
      "Processing Record 6 of Set 12 | qasigiannguit\n",
      "Processing Record 7 of Set 12 | veselynove\n",
      "Processing Record 8 of Set 12 | verkhnyaya inta\n",
      "Processing Record 9 of Set 12 | chagda\n",
      "City not found. Skipping...\n",
      "Processing Record 10 of Set 12 | thilogne\n",
      "City not found. Skipping...\n",
      "Processing Record 11 of Set 12 | kamaishi\n",
      "Processing Record 12 of Set 12 | machali\n",
      "Processing Record 13 of Set 12 | port-cartier\n",
      "Processing Record 14 of Set 12 | jackson\n",
      "Processing Record 15 of Set 12 | maroantsetra\n"
     ]
    },
    {
     "name": "stdout",
     "output_type": "stream",
     "text": [
      "Processing Record 16 of Set 12 | hofn\n",
      "Processing Record 17 of Set 12 | saint john\n",
      "Processing Record 18 of Set 12 | moctezuma\n",
      "Processing Record 19 of Set 12 | havoysund\n",
      "Processing Record 20 of Set 12 | merritt\n",
      "Processing Record 21 of Set 12 | lira\n",
      "Processing Record 22 of Set 12 | port moresby\n",
      "Processing Record 23 of Set 12 | sa kaeo\n",
      "Processing Record 24 of Set 12 | zmeinogorsk\n",
      "Processing Record 25 of Set 12 | natal\n",
      "Processing Record 26 of Set 12 | ryabovo\n",
      "Processing Record 27 of Set 12 | plettenberg bay\n",
      "Processing Record 28 of Set 12 | naze\n",
      "Processing Record 29 of Set 12 | tilichiki\n",
      "Processing Record 30 of Set 12 | umzimvubu\n",
      "City not found. Skipping...\n",
      "-----------------------------\n",
      "Data Retrieval Complete      \n",
      "-----------------------------\n"
     ]
    }
   ],
   "source": [
    "# Api_keys information:\n",
    "url = \"http://api.openweathermap.org/data/2.5/weather?\"\n",
    "units = \"metric\"\n",
    "\n",
    "# Build partial query URL\n",
    "query_url = f\"{url}&units={units}&appid={weather_api_key}&q=\"\n",
    "\n",
    "# Performing a weather check on city using a series of API calls:\n",
    "\n",
    "# Setting list for the loop call:\n",
    "city_data = []\n",
    "city_lat = []\n",
    "city_lng = []\n",
    "city_max_temp = []\n",
    "city_humidity = []\n",
    "city_clouds = []\n",
    "city_wind = []\n",
    "city_country = []\n",
    "city_date = []\n",
    "\n",
    "\n",
    "# Print to logger:\n",
    "print(\"Beginning Data Retrieval     \")\n",
    "print(\"-----------------------------\")\n",
    "\n",
    "# Creating counters for printing log:\n",
    "record_count = 1\n",
    "set_count = 1\n",
    "\n",
    "\n",
    "# Looping through all the cities in our list and performing a request:\n",
    "for i, city in enumerate(cities):\n",
    "       \n",
    "    # Create the endpoint query_url with each city:\n",
    "    city_url = query_url + city\n",
    "    \n",
    "    \n",
    "    # Grouping cities in sets of 50 for with counters we set for printing log:\n",
    "    if (i % 50 == 0 and i >= 50):\n",
    "        set_count += 1\n",
    "        record_count = 0\n",
    "        \n",
    "      \n",
    "    # Printing records with set numbers and counters:\n",
    "    print(\"Processing Record %s of Set %s | %s\" % (record_count, set_count, city))\n",
    "\n",
    "    # Adding 1 to the record count for printing:\n",
    "    record_count += 1\n",
    "\n",
    "    # Running the API request for each of the cities \n",
    "    # (Using try & except)\n",
    "    try:\n",
    "        \n",
    "        # Make request and store in json\n",
    "        response = requests.get(city_url).json()\n",
    "        \n",
    "        \n",
    "        city_data.append(response[\"name\"])\n",
    "        city_lat.append(response[\"coord\"][\"lat\"])\n",
    "        city_lng.append(response[\"coord\"][\"lon\"])\n",
    "        city_max_temp.append(response[\"main\"][\"temp_max\"])\n",
    "        city_humidity.append(response[\"main\"][\"humidity\"])\n",
    "        city_clouds.append(response[\"clouds\"][\"all\"])\n",
    "        city_wind.append(response[\"wind\"][\"speed\"])\n",
    "        city_country.append(response[\"sys\"][\"country\"])\n",
    "        city_date.append(response[\"dt\"])\n",
    "        \n",
    "        # Suspension time to prevent api from getting locked\n",
    "        time.sleep(2)\n",
    "        \n",
    "    # Handle exceptions for experienced error, skip the city:\n",
    "    except:\n",
    "        # Append null values\n",
    "        print(\"City not found. Skipping...\")\n",
    "        pass \n",
    "    \n",
    "# Include a print log of each city as it'sbeing processed (with the city number and city name)              \n",
    "# Print when data loading is complete: \n",
    "print(\"-----------------------------\")\n",
    "print(\"Data Retrieval Complete      \")\n",
    "print(\"-----------------------------\")"
   ]
  },
  {
   "cell_type": "markdown",
   "metadata": {},
   "source": [
    "### Convert Raw Data to DataFrame\n",
    "* Export the city data into a .csv.\n",
    "* Display the DataFrame"
   ]
  },
  {
   "cell_type": "code",
   "execution_count": 4,
   "metadata": {},
   "outputs": [
    {
     "data": {
      "text/html": [
       "<div>\n",
       "<style scoped>\n",
       "    .dataframe tbody tr th:only-of-type {\n",
       "        vertical-align: middle;\n",
       "    }\n",
       "\n",
       "    .dataframe tbody tr th {\n",
       "        vertical-align: top;\n",
       "    }\n",
       "\n",
       "    .dataframe thead th {\n",
       "        text-align: right;\n",
       "    }\n",
       "</style>\n",
       "<table border=\"1\" class=\"dataframe\">\n",
       "  <thead>\n",
       "    <tr style=\"text-align: right;\">\n",
       "      <th></th>\n",
       "      <th>City</th>\n",
       "      <th>Latitude</th>\n",
       "      <th>Longitude</th>\n",
       "      <th>Max Temp</th>\n",
       "      <th>Humidity</th>\n",
       "      <th>Cloudiness</th>\n",
       "      <th>Wind Speed</th>\n",
       "      <th>Country</th>\n",
       "      <th>Date</th>\n",
       "    </tr>\n",
       "  </thead>\n",
       "  <tbody>\n",
       "    <tr>\n",
       "      <th>0</th>\n",
       "      <td>Rikitea</td>\n",
       "      <td>-23.1203</td>\n",
       "      <td>-134.9692</td>\n",
       "      <td>22.89</td>\n",
       "      <td>73</td>\n",
       "      <td>100</td>\n",
       "      <td>9.86</td>\n",
       "      <td>PF</td>\n",
       "      <td>1660209281</td>\n",
       "    </tr>\n",
       "    <tr>\n",
       "      <th>1</th>\n",
       "      <td>Port Alfred</td>\n",
       "      <td>-33.5906</td>\n",
       "      <td>26.8910</td>\n",
       "      <td>17.88</td>\n",
       "      <td>82</td>\n",
       "      <td>100</td>\n",
       "      <td>0.45</td>\n",
       "      <td>ZA</td>\n",
       "      <td>1660209283</td>\n",
       "    </tr>\n",
       "    <tr>\n",
       "      <th>2</th>\n",
       "      <td>Hobart</td>\n",
       "      <td>-42.8794</td>\n",
       "      <td>147.3294</td>\n",
       "      <td>11.92</td>\n",
       "      <td>83</td>\n",
       "      <td>75</td>\n",
       "      <td>3.09</td>\n",
       "      <td>AU</td>\n",
       "      <td>1660209213</td>\n",
       "    </tr>\n",
       "    <tr>\n",
       "      <th>3</th>\n",
       "      <td>Zhob</td>\n",
       "      <td>31.3411</td>\n",
       "      <td>69.4481</td>\n",
       "      <td>32.59</td>\n",
       "      <td>35</td>\n",
       "      <td>44</td>\n",
       "      <td>3.11</td>\n",
       "      <td>PK</td>\n",
       "      <td>1660209288</td>\n",
       "    </tr>\n",
       "    <tr>\n",
       "      <th>4</th>\n",
       "      <td>Nikolskoye</td>\n",
       "      <td>59.7035</td>\n",
       "      <td>30.7861</td>\n",
       "      <td>24.37</td>\n",
       "      <td>41</td>\n",
       "      <td>99</td>\n",
       "      <td>4.68</td>\n",
       "      <td>RU</td>\n",
       "      <td>1660209290</td>\n",
       "    </tr>\n",
       "  </tbody>\n",
       "</table>\n",
       "</div>"
      ],
      "text/plain": [
       "          City  Latitude  Longitude  Max Temp  Humidity  Cloudiness  \\\n",
       "0      Rikitea  -23.1203  -134.9692     22.89        73         100   \n",
       "1  Port Alfred  -33.5906    26.8910     17.88        82         100   \n",
       "2       Hobart  -42.8794   147.3294     11.92        83          75   \n",
       "3         Zhob   31.3411    69.4481     32.59        35          44   \n",
       "4   Nikolskoye   59.7035    30.7861     24.37        41          99   \n",
       "\n",
       "   Wind Speed Country        Date  \n",
       "0        9.86      PF  1660209281  \n",
       "1        0.45      ZA  1660209283  \n",
       "2        3.09      AU  1660209213  \n",
       "3        3.11      PK  1660209288  \n",
       "4        4.68      RU  1660209290  "
      ]
     },
     "execution_count": 4,
     "metadata": {},
     "output_type": "execute_result"
    }
   ],
   "source": [
    "# Creating new dataframe for cities data:\n",
    "city_data_df ={\n",
    "    \"City\": city_data, \n",
    "    \"Latitude\": city_lat, \n",
    "    \"Longitude\": city_lng, \n",
    "    \"Max Temp\": city_max_temp,\n",
    "    \"Humidity\": city_humidity,\n",
    "    \"Cloudiness\": city_clouds,\n",
    "    \"Wind Speed\": city_wind,\n",
    "    \"Country\": city_country,\n",
    "     \"Date\": city_date}\n",
    "\n",
    "weather_df = pd.DataFrame(city_data_df)\n",
    "weather_df.head()"
   ]
  },
  {
   "cell_type": "code",
   "execution_count": 5,
   "metadata": {},
   "outputs": [
    {
     "data": {
      "text/html": [
       "<div>\n",
       "<style scoped>\n",
       "    .dataframe tbody tr th:only-of-type {\n",
       "        vertical-align: middle;\n",
       "    }\n",
       "\n",
       "    .dataframe tbody tr th {\n",
       "        vertical-align: top;\n",
       "    }\n",
       "\n",
       "    .dataframe thead th {\n",
       "        text-align: right;\n",
       "    }\n",
       "</style>\n",
       "<table border=\"1\" class=\"dataframe\">\n",
       "  <thead>\n",
       "    <tr style=\"text-align: right;\">\n",
       "      <th></th>\n",
       "      <th>Latitude</th>\n",
       "      <th>Longitude</th>\n",
       "      <th>Max Temp</th>\n",
       "      <th>Humidity</th>\n",
       "      <th>Cloudiness</th>\n",
       "      <th>Wind Speed</th>\n",
       "      <th>Date</th>\n",
       "    </tr>\n",
       "  </thead>\n",
       "  <tbody>\n",
       "    <tr>\n",
       "      <th>count</th>\n",
       "      <td>539.000000</td>\n",
       "      <td>539.000000</td>\n",
       "      <td>539.000000</td>\n",
       "      <td>539.000000</td>\n",
       "      <td>539.000000</td>\n",
       "      <td>539.000000</td>\n",
       "      <td>5.390000e+02</td>\n",
       "    </tr>\n",
       "    <tr>\n",
       "      <th>mean</th>\n",
       "      <td>20.492333</td>\n",
       "      <td>20.165572</td>\n",
       "      <td>21.148015</td>\n",
       "      <td>69.690167</td>\n",
       "      <td>57.821892</td>\n",
       "      <td>3.529555</td>\n",
       "      <td>1.660210e+09</td>\n",
       "    </tr>\n",
       "    <tr>\n",
       "      <th>std</th>\n",
       "      <td>33.126110</td>\n",
       "      <td>91.412303</td>\n",
       "      <td>8.272227</td>\n",
       "      <td>21.812025</td>\n",
       "      <td>39.032607</td>\n",
       "      <td>2.593510</td>\n",
       "      <td>3.591245e+02</td>\n",
       "    </tr>\n",
       "    <tr>\n",
       "      <th>min</th>\n",
       "      <td>-54.800000</td>\n",
       "      <td>-175.200000</td>\n",
       "      <td>-0.940000</td>\n",
       "      <td>1.000000</td>\n",
       "      <td>0.000000</td>\n",
       "      <td>0.000000</td>\n",
       "      <td>1.660209e+09</td>\n",
       "    </tr>\n",
       "    <tr>\n",
       "      <th>25%</th>\n",
       "      <td>-6.280250</td>\n",
       "      <td>-63.112250</td>\n",
       "      <td>15.170000</td>\n",
       "      <td>55.000000</td>\n",
       "      <td>18.000000</td>\n",
       "      <td>1.540000</td>\n",
       "      <td>1.660210e+09</td>\n",
       "    </tr>\n",
       "    <tr>\n",
       "      <th>50%</th>\n",
       "      <td>26.541200</td>\n",
       "      <td>27.461800</td>\n",
       "      <td>22.320000</td>\n",
       "      <td>75.000000</td>\n",
       "      <td>74.000000</td>\n",
       "      <td>3.000000</td>\n",
       "      <td>1.660210e+09</td>\n",
       "    </tr>\n",
       "    <tr>\n",
       "      <th>75%</th>\n",
       "      <td>48.392500</td>\n",
       "      <td>103.020600</td>\n",
       "      <td>27.165000</td>\n",
       "      <td>87.000000</td>\n",
       "      <td>99.000000</td>\n",
       "      <td>4.715000</td>\n",
       "      <td>1.660210e+09</td>\n",
       "    </tr>\n",
       "    <tr>\n",
       "      <th>max</th>\n",
       "      <td>78.218600</td>\n",
       "      <td>179.316700</td>\n",
       "      <td>44.290000</td>\n",
       "      <td>100.000000</td>\n",
       "      <td>100.000000</td>\n",
       "      <td>17.490000</td>\n",
       "      <td>1.660210e+09</td>\n",
       "    </tr>\n",
       "  </tbody>\n",
       "</table>\n",
       "</div>"
      ],
      "text/plain": [
       "         Latitude   Longitude    Max Temp    Humidity  Cloudiness  Wind Speed  \\\n",
       "count  539.000000  539.000000  539.000000  539.000000  539.000000  539.000000   \n",
       "mean    20.492333   20.165572   21.148015   69.690167   57.821892    3.529555   \n",
       "std     33.126110   91.412303    8.272227   21.812025   39.032607    2.593510   \n",
       "min    -54.800000 -175.200000   -0.940000    1.000000    0.000000    0.000000   \n",
       "25%     -6.280250  -63.112250   15.170000   55.000000   18.000000    1.540000   \n",
       "50%     26.541200   27.461800   22.320000   75.000000   74.000000    3.000000   \n",
       "75%     48.392500  103.020600   27.165000   87.000000   99.000000    4.715000   \n",
       "max     78.218600  179.316700   44.290000  100.000000  100.000000   17.490000   \n",
       "\n",
       "               Date  \n",
       "count  5.390000e+02  \n",
       "mean   1.660210e+09  \n",
       "std    3.591245e+02  \n",
       "min    1.660209e+09  \n",
       "25%    1.660210e+09  \n",
       "50%    1.660210e+09  \n",
       "75%    1.660210e+09  \n",
       "max    1.660210e+09  "
      ]
     },
     "execution_count": 5,
     "metadata": {},
     "output_type": "execute_result"
    }
   ],
   "source": [
    "# Exporting the city data to .csv file:\n",
    "\n",
    "weather_df.to_csv(\"output_data/city_weather.csv\", index=False, header=True)\n",
    "\n",
    "weather_df.describe()"
   ]
  },
  {
   "cell_type": "markdown",
   "metadata": {},
   "source": [
    "## Inspect the data and remove the cities where the humidity > 100%.\n",
    "----\n",
    "Skip this step if there are no cities that have humidity > 100%. "
   ]
  },
  {
   "cell_type": "code",
   "execution_count": 6,
   "metadata": {},
   "outputs": [
    {
     "data": {
      "text/plain": [
       "Int64Index([], dtype='int64')"
      ]
     },
     "execution_count": 6,
     "metadata": {},
     "output_type": "execute_result"
    }
   ],
   "source": [
    "#  Get the indices of cities that have humidity over 100%.\n",
    "over_100 = weather_df[weather_df.Humidity > 100].index\n",
    "over_100"
   ]
  },
  {
   "cell_type": "code",
   "execution_count": 7,
   "metadata": {},
   "outputs": [
    {
     "data": {
      "text/html": [
       "<div>\n",
       "<style scoped>\n",
       "    .dataframe tbody tr th:only-of-type {\n",
       "        vertical-align: middle;\n",
       "    }\n",
       "\n",
       "    .dataframe tbody tr th {\n",
       "        vertical-align: top;\n",
       "    }\n",
       "\n",
       "    .dataframe thead th {\n",
       "        text-align: right;\n",
       "    }\n",
       "</style>\n",
       "<table border=\"1\" class=\"dataframe\">\n",
       "  <thead>\n",
       "    <tr style=\"text-align: right;\">\n",
       "      <th></th>\n",
       "      <th>City</th>\n",
       "      <th>Latitude</th>\n",
       "      <th>Longitude</th>\n",
       "      <th>Max Temp</th>\n",
       "      <th>Humidity</th>\n",
       "      <th>Cloudiness</th>\n",
       "      <th>Wind Speed</th>\n",
       "      <th>Country</th>\n",
       "      <th>Date</th>\n",
       "    </tr>\n",
       "  </thead>\n",
       "  <tbody>\n",
       "    <tr>\n",
       "      <th>0</th>\n",
       "      <td>Rikitea</td>\n",
       "      <td>-23.1203</td>\n",
       "      <td>-134.9692</td>\n",
       "      <td>22.89</td>\n",
       "      <td>73</td>\n",
       "      <td>100</td>\n",
       "      <td>9.86</td>\n",
       "      <td>PF</td>\n",
       "      <td>1660209281</td>\n",
       "    </tr>\n",
       "    <tr>\n",
       "      <th>1</th>\n",
       "      <td>Port Alfred</td>\n",
       "      <td>-33.5906</td>\n",
       "      <td>26.8910</td>\n",
       "      <td>17.88</td>\n",
       "      <td>82</td>\n",
       "      <td>100</td>\n",
       "      <td>0.45</td>\n",
       "      <td>ZA</td>\n",
       "      <td>1660209283</td>\n",
       "    </tr>\n",
       "    <tr>\n",
       "      <th>2</th>\n",
       "      <td>Hobart</td>\n",
       "      <td>-42.8794</td>\n",
       "      <td>147.3294</td>\n",
       "      <td>11.92</td>\n",
       "      <td>83</td>\n",
       "      <td>75</td>\n",
       "      <td>3.09</td>\n",
       "      <td>AU</td>\n",
       "      <td>1660209213</td>\n",
       "    </tr>\n",
       "    <tr>\n",
       "      <th>3</th>\n",
       "      <td>Zhob</td>\n",
       "      <td>31.3411</td>\n",
       "      <td>69.4481</td>\n",
       "      <td>32.59</td>\n",
       "      <td>35</td>\n",
       "      <td>44</td>\n",
       "      <td>3.11</td>\n",
       "      <td>PK</td>\n",
       "      <td>1660209288</td>\n",
       "    </tr>\n",
       "    <tr>\n",
       "      <th>4</th>\n",
       "      <td>Nikolskoye</td>\n",
       "      <td>59.7035</td>\n",
       "      <td>30.7861</td>\n",
       "      <td>24.37</td>\n",
       "      <td>41</td>\n",
       "      <td>99</td>\n",
       "      <td>4.68</td>\n",
       "      <td>RU</td>\n",
       "      <td>1660209290</td>\n",
       "    </tr>\n",
       "  </tbody>\n",
       "</table>\n",
       "</div>"
      ],
      "text/plain": [
       "          City  Latitude  Longitude  Max Temp  Humidity  Cloudiness  \\\n",
       "0      Rikitea  -23.1203  -134.9692     22.89        73         100   \n",
       "1  Port Alfred  -33.5906    26.8910     17.88        82         100   \n",
       "2       Hobart  -42.8794   147.3294     11.92        83          75   \n",
       "3         Zhob   31.3411    69.4481     32.59        35          44   \n",
       "4   Nikolskoye   59.7035    30.7861     24.37        41          99   \n",
       "\n",
       "   Wind Speed Country        Date  \n",
       "0        9.86      PF  1660209281  \n",
       "1        0.45      ZA  1660209283  \n",
       "2        3.09      AU  1660209213  \n",
       "3        3.11      PK  1660209288  \n",
       "4        4.68      RU  1660209290  "
      ]
     },
     "execution_count": 7,
     "metadata": {},
     "output_type": "execute_result"
    }
   ],
   "source": [
    "# Make a new DataFrame equal to the city data to drop all humidity outliers by index.\n",
    "# Passing \"inplace=False\" will make a copy of the city_data DataFrame, which we call \"clean_city_data\".\n",
    "clean_city_data = weather_df\n",
    "for x in over_100:\n",
    "    clean_city_data = weather_df.drop([x])\n",
    "clean_city_data.head()"
   ]
  },
  {
   "cell_type": "markdown",
   "metadata": {},
   "source": [
    "## Plotting the Data\n",
    "* Use proper labelling of the plots using plot titles (including date of analysis) and axes labels.\n",
    "* Save the plotted figures as .pngs."
   ]
  },
  {
   "cell_type": "code",
   "execution_count": 8,
   "metadata": {},
   "outputs": [],
   "source": [
    "# Extract relevant fields from the cleaned dataframe\n",
    "lat = clean_city_data .Latitude\n",
    "max_temp = clean_city_data [\"Max Temp\"]\n",
    "humid = clean_city_data.Humidity\n",
    "cloud = clean_city_data.Cloudiness\n",
    "wind = clean_city_data[\"Wind Speed\"]\n",
    "\n",
    "# Export the clean_city_data into a csv:\n",
    "clean_city_data.to_csv(\"output_data/clean_city_data.csv\", index=False, header=True)"
   ]
  },
  {
   "cell_type": "markdown",
   "metadata": {},
   "source": [
    "## Latitude vs. Temperature Plot"
   ]
  },
  {
   "cell_type": "code",
   "execution_count": 31,
   "metadata": {
    "scrolled": true
   },
   "outputs": [
    {
     "data": {
      "image/png": "[encoded data removed]",
      "text/plain": [
       "<Figure size 432x288 with 1 Axes>"
      ]
     },
     "metadata": {
      "needs_background": "light"
     },
     "output_type": "display_data"
    }
   ],
   "source": [
    "# Plot 1: Latitude vs. Temperature Plot\n",
    "x_values = lat\n",
    "y_values = max_temp\n",
    "\n",
    "plt.scatter(x_values,y_values, marker = \"o\", facecolor = \"blue\", edgecolor=\"black\")\n",
    "\n",
    "plt.xlabel(\"Latitude\")\n",
    "plt.ylabel(\"Max Temprature (C)\")\n",
    "plt.title(\"City Latitude vs. Max Temperature\")\n",
    "plt.grid()\n",
    "plt.savefig(\"Images/lat_vs_temp.png\")\n",
    "plt.show()"
   ]
  },
  {
   "cell_type": "markdown",
   "metadata": {},
   "source": [
    "## Latitude vs. Humidity Plot"
   ]
  },
  {
   "cell_type": "code",
   "execution_count": 32,
   "metadata": {},
   "outputs": [
    {
     "data": {
      "image/png": "[encoded data removed]",
      "text/plain": [
       "<Figure size 432x288 with 1 Axes>"
      ]
     },
     "metadata": {
      "needs_background": "light"
     },
     "output_type": "display_data"
    }
   ],
   "source": [
    "# Plot 2: Latitude vs. Humidity Plot\n",
    "x_values = lat\n",
    "y_values = humid\n",
    "\n",
    "plt.scatter(x_values,y_values, marker = \"o\", facecolor = \"blue\", edgecolor=\"black\")\n",
    "\n",
    "plt.xlabel(\"Latitude\")\n",
    "plt.ylabel(\"Humidity (%)\")\n",
    "plt.title(\"City Latitude vs. Humidity\")\n",
    "plt.grid()\n",
    "plt.savefig(\"Images/lat_vs_humid.png\")\n",
    "plt.show()"
   ]
  },
  {
   "cell_type": "markdown",
   "metadata": {},
   "source": [
    "## Latitude vs. Cloudiness Plot"
   ]
  },
  {
   "cell_type": "code",
   "execution_count": 33,
   "metadata": {},
   "outputs": [
    {
     "data": {
      "image/png": "[encoded data removed]",
      "text/plain": [
       "<Figure size 432x288 with 1 Axes>"
      ]
     },
     "metadata": {
      "needs_background": "light"
     },
     "output_type": "display_data"
    }
   ],
   "source": [
    "# Plot 3: Latitude vs. Cloudiness Plot\n",
    "x_values = lat\n",
    "y_values = cloud\n",
    "\n",
    "plt.scatter(x_values,y_values, marker = \"o\", facecolor =\"blue\", edgecolor=\"black\")\n",
    "\n",
    "plt.xlabel(\"Latitude\")\n",
    "plt.ylabel(\"Cloudiness (%)\")\n",
    "plt.title(\"City Latitude vs. Cloudiness\")\n",
    "plt.grid()\n",
    "plt.savefig(\"Images/lat_vs_cloud.png\")\n",
    "plt.show()"
   ]
  },
  {
   "cell_type": "markdown",
   "metadata": {},
   "source": [
    "## Latitude vs. Wind Speed Plot"
   ]
  },
  {
   "cell_type": "code",
   "execution_count": 34,
   "metadata": {},
   "outputs": [
    {
     "data": {
      "image/png": "[encoded data removed]",
      "text/plain": [
       "<Figure size 432x288 with 1 Axes>"
      ]
     },
     "metadata": {
      "needs_background": "light"
     },
     "output_type": "display_data"
    }
   ],
   "source": [
    "# Plot 4: Latitude vs. Wind Speed Plot\n",
    "x_values = lat\n",
    "y_values = wind\n",
    "\n",
    "plt.scatter(x_values,y_values, marker = \"o\", facecolor = \"blue\", edgecolor=\"black\")\n",
    "\n",
    "plt.xlabel(\"Latitude\")\n",
    "plt.ylabel(\"Wind Speed (mph)\")\n",
    "plt.title(\"City Latitude vs. Wind Speed\")\n",
    "plt.grid()\n",
    "plt.savefig(\"Images/lat_vs_wind.png\")\n",
    "plt.show()"
   ]
  },
  {
   "cell_type": "markdown",
   "metadata": {},
   "source": [
    "## Linear Regression"
   ]
  },
  {
   "cell_type": "code",
   "execution_count": 15,
   "metadata": {},
   "outputs": [],
   "source": [
    "# Create a function to create linear regression plots.\n",
    "def createLinearRegressionPlot(x_values, y_values, x_label, y_label, hemisphere, line_placement, ylim=None):\n",
    "    (slope, intercept, rvalue, pvalue, stderr) = linregress(x_values, y_values)\n",
    "\n",
    "    # Get regression values\n",
    "    regress_values = x_values * slope + intercept\n",
    "    \n",
    "    # Create line equation string\n",
    "    line_eq = \"y = \" + str(round(slope,2)) + \"x +\" + str(round(intercept,2))\n",
    "    \n",
    "    plt.scatter(x_values, y_values)\n",
    "    plt.xlabel(x_label)\n",
    "    plt.ylabel(y_label)\n",
    "    if ylim is not None:\n",
    "        plt.ylim(0, ylim)\n",
    "    plt.title(f\"{hemisphere} Hemisphere - {x_label} vs {y_label}\")\n",
    "    plt.annotate(line_eq,line_placement,fontsize=15,color=\"red\")\n",
    "    # Print r square value\n",
    "    print(f\"The r-squared is: {rvalue**2}\")\n",
    "    correlation = st.pearsonr(x_values,y_values)\n",
    "    print(f\"The correlation between both factors is {round(correlation[0],2)}\")\n",
    "    plt.savefig(f\"./Images/{hemisphere}_{x_label}_vs_{y_label}.png\", bbox_inches=\"tight\")\n",
    "    return plt.plot(x_values,regress_values,\"r-\")"
   ]
  },
  {
   "cell_type": "code",
   "execution_count": 16,
   "metadata": {},
   "outputs": [],
   "source": [
    "# Creating northern and southern hemisphere dataframe for linear regression:\n",
    "north_hemisphere = clean_city_data.loc[clean_city_data[\"Latitude\"] >= 0]\n",
    "south_hemisphere = clean_city_data.loc[clean_city_data[\"Latitude\"] < 0]"
   ]
  },
  {
   "cell_type": "markdown",
   "metadata": {},
   "source": [
    "###  Max Temp vs. Latitude Linear Regression"
   ]
  },
  {
   "cell_type": "markdown",
   "metadata": {},
   "source": [
    "####  Northern Hemisphere - Max Temp vs. Latitude Linear Regression"
   ]
  },
  {
   "cell_type": "code",
   "execution_count": 25,
   "metadata": {},
   "outputs": [
    {
     "name": "stdout",
     "output_type": "stream",
     "text": [
      "The r-squared is: 0.44518197151158867\n",
      "The correlation between both factors is -0.67\n"
     ]
    },
    {
     "data": {
      "text/plain": [
       "[<matplotlib.lines.Line2D at 0x7f953d77ae10>]"
      ]
     },
     "execution_count": 25,
     "metadata": {},
     "output_type": "execute_result"
    },
    {
     "data": {
      "image/png": "[encoded data removed]",
      "text/plain": [
       "<Figure size 432x288 with 1 Axes>"
      ]
     },
     "metadata": {
      "needs_background": "light"
     },
     "output_type": "display_data"
    }
   ],
   "source": [
    "# Create a scatter plot for latitude vs max temp (northern hemisphere)\n",
    "x_values = north_hemisphere[\"Latitude\"]\n",
    "y_values = north_hemisphere[\"Max Temp\"]\n",
    "createLinearRegressionPlot(x_values, y_values, \"Latitude\", \"Max Temp (C)\", \"Northern\",(0, 0))"
   ]
  },
  {
   "cell_type": "markdown",
   "metadata": {},
   "source": [
    "####  Southern Hemisphere - Max Temp vs. Latitude Linear Regression"
   ]
  },
  {
   "cell_type": "code",
   "execution_count": 26,
   "metadata": {},
   "outputs": [
    {
     "name": "stdout",
     "output_type": "stream",
     "text": [
      "The r-squared is: 0.5910591982492553\n",
      "The correlation between both factors is 0.77\n"
     ]
    },
    {
     "data": {
      "text/plain": [
       "[<matplotlib.lines.Line2D at 0x7f953e0883d0>]"
      ]
     },
     "execution_count": 26,
     "metadata": {},
     "output_type": "execute_result"
    },
    {
     "data": {
      "image/png": "[encoded data removed]",
      "text/plain": [
       "<Figure size 432x288 with 1 Axes>"
      ]
     },
     "metadata": {
      "needs_background": "light"
     },
     "output_type": "display_data"
    }
   ],
   "source": [
    "# Create a scatter plot for latitude vs max temp (southern hemisphere)\n",
    "x_values = south_hemisphere[\"Latitude\"]\n",
    "y_values = south_hemisphere[\"Max Temp\"]\n",
    "createLinearRegressionPlot(x_values, y_values, \"Latitude\", \"Max Temp (C)\", \"Southern\",(-50, 0))"
   ]
  },
  {
   "cell_type": "markdown",
   "metadata": {},
   "source": [
    "### Humidity (%) vs. Latitude Linear Regression"
   ]
  },
  {
   "cell_type": "markdown",
   "metadata": {},
   "source": [
    "####  Northern Hemisphere - Humidity (%) vs. Latitude Linear Regression"
   ]
  },
  {
   "cell_type": "code",
   "execution_count": 19,
   "metadata": {},
   "outputs": [
    {
     "name": "stdout",
     "output_type": "stream",
     "text": [
      "The r-squared is: 0.002623535584440007\n",
      "The correlation between both factors is 0.05\n"
     ]
    },
    {
     "data": {
      "text/plain": [
       "[<matplotlib.lines.Line2D at 0x7f953d233250>]"
      ]
     },
     "execution_count": 19,
     "metadata": {},
     "output_type": "execute_result"
    },
    {
     "data": {
      "image/png": "[encoded data removed]",
      "text/plain": [
       "<Figure size 432x288 with 1 Axes>"
      ]
     },
     "metadata": {
      "needs_background": "light"
     },
     "output_type": "display_data"
    }
   ],
   "source": [
    "# Create a scatter plot for latitude vs humditiy (northern hemisphere)\n",
    "x_values = north_hemisphere[\"Latitude\"]\n",
    "y_values = north_hemisphere[\"Humidity\"]\n",
    "createLinearRegressionPlot(x_values, y_values, \"Latitude\", \"Humidity (%)\", \"Northern\",(10, 0))"
   ]
  },
  {
   "cell_type": "markdown",
   "metadata": {},
   "source": [
    "####  Southern Hemisphere - Humidity (%) vs. Latitude Linear Regression"
   ]
  },
  {
   "cell_type": "code",
   "execution_count": 20,
   "metadata": {},
   "outputs": [
    {
     "name": "stdout",
     "output_type": "stream",
     "text": [
      "The r-squared is: 0.003621006366022821\n",
      "The correlation between both factors is -0.06\n"
     ]
    },
    {
     "data": {
      "text/plain": [
       "[<matplotlib.lines.Line2D at 0x7f953d3d1390>]"
      ]
     },
     "execution_count": 20,
     "metadata": {},
     "output_type": "execute_result"
    },
    {
     "data": {
      "image/png": "[encoded data removed]",
      "text/plain": [
       "<Figure size 432x288 with 1 Axes>"
      ]
     },
     "metadata": {
      "needs_background": "light"
     },
     "output_type": "display_data"
    }
   ],
   "source": [
    "# Create a scatter plot for latitude vs humditiy (southern hemisphere)\n",
    "x_values = south_hemisphere[\"Latitude\"]\n",
    "y_values = south_hemisphere[\"Humidity\"]\n",
    "createLinearRegressionPlot(x_values, y_values, \"Latitude\", \"Humidity (%)\", \"Southern\",(-50, 20))"
   ]
  },
  {
   "cell_type": "markdown",
   "metadata": {},
   "source": [
    "### Cloudiness (%) vs. Latitude Linear Regression"
   ]
  },
  {
   "cell_type": "markdown",
   "metadata": {},
   "source": [
    "####  Northern Hemisphere - Cloudiness (%) vs. Latitude Linear Regression"
   ]
  },
  {
   "cell_type": "code",
   "execution_count": 21,
   "metadata": {},
   "outputs": [
    {
     "name": "stdout",
     "output_type": "stream",
     "text": [
      "The r-squared is: 0.0016995509282146705\n",
      "The correlation between both factors is -0.04\n"
     ]
    },
    {
     "data": {
      "text/plain": [
       "[<matplotlib.lines.Line2D at 0x7f953d30ee90>]"
      ]
     },
     "execution_count": 21,
     "metadata": {},
     "output_type": "execute_result"
    },
    {
     "data": {
      "image/png": "[encoded data removed]",
      "text/plain": [
       "<Figure size 432x288 with 1 Axes>"
      ]
     },
     "metadata": {
      "needs_background": "light"
     },
     "output_type": "display_data"
    }
   ],
   "source": [
    "# Create a scatter plot for latitude vs cloudiness (northern hemisphere)\n",
    "x_values = north_hemisphere[\"Latitude\"]\n",
    "y_values = north_hemisphere[\"Cloudiness\"]\n",
    "createLinearRegressionPlot(x_values, y_values, \"Latitude\", \"Cloudiness(%)\", \"Northern\",(0, 0))"
   ]
  },
  {
   "cell_type": "markdown",
   "metadata": {},
   "source": [
    "####  Southern Hemisphere - Cloudiness (%) vs. Latitude Linear Regression"
   ]
  },
  {
   "cell_type": "code",
   "execution_count": 22,
   "metadata": {},
   "outputs": [
    {
     "name": "stdout",
     "output_type": "stream",
     "text": [
      "The r-squared is: 0.056360592817105176\n",
      "The correlation between both factors is 0.24\n"
     ]
    },
    {
     "data": {
      "text/plain": [
       "[<matplotlib.lines.Line2D at 0x7f953d4c1690>]"
      ]
     },
     "execution_count": 22,
     "metadata": {},
     "output_type": "execute_result"
    },
    {
     "data": {
      "image/png": "[encoded data removed]",
      "text/plain": [
       "<Figure size 432x288 with 1 Axes>"
      ]
     },
     "metadata": {
      "needs_background": "light"
     },
     "output_type": "display_data"
    }
   ],
   "source": [
    "# Create a scatter plot for latitude vs cloudiness (southern hemisphere)\n",
    "x_values = south_hemisphere[\"Latitude\"]\n",
    "y_values = south_hemisphere[\"Cloudiness\"]\n",
    "createLinearRegressionPlot(x_values, y_values, \"Latitude\", \"Cloudiness(%)\", \"Southern\",(-45, 60))"
   ]
  },
  {
   "cell_type": "markdown",
   "metadata": {},
   "source": [
    "### Wind Speed (m/s) vs. Latitude Linear Regression"
   ]
  },
  {
   "cell_type": "markdown",
   "metadata": {},
   "source": [
    "####  Northern Hemisphere - Wind Speed (mph) vs. Latitude Linear Regression"
   ]
  },
  {
   "cell_type": "code",
   "execution_count": 30,
   "metadata": {},
   "outputs": [
    {
     "name": "stdout",
     "output_type": "stream",
     "text": [
      "The r-squared is: 0.00140630336880734\n",
      "The correlation between both factors is 0.04\n"
     ]
    },
    {
     "data": {
      "text/plain": [
       "[<matplotlib.lines.Line2D at 0x7f951f092490>]"
      ]
     },
     "execution_count": 30,
     "metadata": {},
     "output_type": "execute_result"
    },
    {
     "data": {
      "image/png": "[encoded data removed]",
      "text/plain": [
       "<Figure size 432x288 with 1 Axes>"
      ]
     },
     "metadata": {
      "needs_background": "light"
     },
     "output_type": "display_data"
    }
   ],
   "source": [
    "# Create a scatter plot for latitude vs wind speed(northern hemisphere)\n",
    "x_values = north_hemisphere[\"Latitude\"]\n",
    "y_values = north_hemisphere[\"Wind Speed\"]\n",
    "createLinearRegressionPlot(x_values, y_values, \"Latitude\", \"Wind Speed (mps)\", \"Northern\",(0, 13))"
   ]
  },
  {
   "cell_type": "markdown",
   "metadata": {},
   "source": [
    "####  Southern Hemisphere - Wind Speed (mph) vs. Latitude Linear Regression"
   ]
  },
  {
   "cell_type": "code",
   "execution_count": 29,
   "metadata": {},
   "outputs": [
    {
     "name": "stdout",
     "output_type": "stream",
     "text": [
      "The r-squared is: 0.0030635309578684105\n",
      "The correlation between both factors is 0.06\n"
     ]
    },
    {
     "data": {
      "text/plain": [
       "[<matplotlib.lines.Line2D at 0x7f953e5bafd0>]"
      ]
     },
     "execution_count": 29,
     "metadata": {},
     "output_type": "execute_result"
    },
    {
     "data": {
      "image/png": "[encoded data removed]",
      "text/plain": [
       "<Figure size 432x288 with 1 Axes>"
      ]
     },
     "metadata": {
      "needs_background": "light"
     },
     "output_type": "display_data"
    }
   ],
   "source": [
    "# Create a scatter plot for latitude vs wind speed (southern hemisphere)\n",
    "x_values = south_hemisphere[\"Latitude\"]\n",
    "y_values = south_hemisphere[\"Wind Speed\"]\n",
    "createLinearRegressionPlot(x_values, y_values, \"Latitude\", \"Wind Speed (mps)\", \"Southern\",(-55, 12))"
   ]
  }
 ],
 "metadata": {
  "anaconda-cloud": {},
  "kernel_info": {
   "name": "python3"
  },
  "kernelspec": {
   "display_name": "Python [conda env:PythonData] *",
   "language": "python",
   "name": "conda-env-PythonData-py"
  },
  "language_info": {
   "codemirror_mode": {
    "name": "ipython",
    "version": 3
   },
   "file_extension": ".py",
   "mimetype": "text/x-python",
   "name": "python",
   "nbconvert_exporter": "python",
   "pygments_lexer": "ipython3",
   "version": "3.7.7"
  },
  "latex_envs": {
   "LaTeX_envs_menu_present": true,
   "autoclose": false,
   "autocomplete": true,
   "bibliofile": "biblio.bib",
   "cite_by": "apalike",
   "current_citInitial": 1,
   "eqLabelWithNumbers": true,
   "eqNumInitial": 1,
   "hotkeys": {
    "equation": "Ctrl-E",
    "itemize": "Ctrl-I"
   },
   "labels_anchors": false,
   "latex_user_defs": false,
   "report_style_numbering": false,
   "user_envs_cfg": false
  },
  "nteract": {
   "version": "0.12.3"
  }
 },
 "nbformat": 4,
 "nbformat_minor": 2
}
